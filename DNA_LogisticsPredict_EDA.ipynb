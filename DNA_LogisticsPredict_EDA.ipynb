{
 "cells": [
  {
   "cell_type": "markdown",
   "metadata": {
    "id": "k9vYr9GnSA_W"
   },
   "source": [
    "# 기본 설정"
   ]
  },
  {
   "cell_type": "code",
   "execution_count": 1,
   "metadata": {
    "colab": {
     "base_uri": "https://localhost:8080/"
    },
    "id": "ygxiC8YNR_V1",
    "outputId": "a06175a2-0973-4892-8088-8656fddb3490"
   },
   "outputs": [
    {
     "name": "stdout",
     "output_type": "stream",
     "text": [
      "Mounted at /content/drive\n"
     ]
    }
   ],
   "source": [
    "from google.colab import drive\n",
    "drive.mount('/content/drive')"
   ]
  },
  {
   "cell_type": "code",
   "execution_count": null,
   "metadata": {
    "id": "NYRcApFbSgOY"
   },
   "outputs": [],
   "source": [
    "#시각화 글꼴 깨짐 방지\n",
    "!sudo apt-get install -y fonts-nanum\n",
    "!sudo fc-cache -fv\n",
    "!rm ~/.cache/matplotlib -rf"
   ]
  },
  {
   "cell_type": "code",
   "execution_count": null,
   "metadata": {
    "id": "hqJe3U1XSk0E"
   },
   "outputs": [],
   "source": [
    "import matplotlib.pyplot as plt #실행 전 런타임 다시 시작\n",
    "\n",
    "plt.rc('font', family='Pretendard')\n",
    "\n",
    "# 음수 부호까지 제대로 표시되도록 설정 추가\n",
    "plt.rcParams['axes.unicode_minus'] = False"
   ]
  },
  {
   "cell_type": "code",
   "execution_count": null,
   "metadata": {
    "id": "mV5mNOI0RgqS"
   },
   "outputs": [],
   "source": [
    "#필요한 라이브러리 불러오기\n",
    "import pandas as pd\n",
    "import numpy as np\n",
    "import matplotlib.pyplot as plt\n",
    "%matplotlib inline #사진을 바로 볼 수 있게 해주는 옵션\n",
    "import seaborn as sns\n",
    "\n",
    "#plotly 시각화 라이브러리\n",
    "import plotly.express as px\n",
    "import plotly.io as pio\n",
    "import plotly.graph_objects as go\n",
    "from plotly.subplots import make_subplots #서브플롯 제작\n",
    "\n",
    "#warning 알림 무시\n",
    "import warnings\n",
    "warnings.filterwarnings('ignore')"
   ]
  },
  {
   "cell_type": "code",
   "execution_count": null,
   "metadata": {
    "id": "E1VKGqD9TsCz"
   },
   "outputs": [],
   "source": [
    "import os\n",
    "os.getcwd() # 현재 디렉토리 파악\n",
    "os.chdir(r\"______\")"
   ]
  }
 ],
 "metadata": {
  "colab": {
   "provenance": [],
   "toc_visible": true
  },
  "kernelspec": {
   "display_name": "Python 3 (ipykernel)",
   "language": "python",
   "name": "python3"
  },
  "language_info": {
   "codemirror_mode": {
    "name": "ipython",
    "version": 3
   },
   "file_extension": ".py",
   "mimetype": "text/x-python",
   "name": "python",
   "nbconvert_exporter": "python",
   "pygments_lexer": "ipython3",
   "version": "3.9.12"
  }
 },
 "nbformat": 4,
 "nbformat_minor": 1
}
